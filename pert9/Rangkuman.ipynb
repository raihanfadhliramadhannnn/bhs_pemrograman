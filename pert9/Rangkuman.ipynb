{
 "cells": [
  {
   "cell_type": "code",
   "execution_count": null,
   "metadata": {},
   "outputs": [],
   "source": [
    "1. Definisi\n",
    "Array (dalam Python) adalah struktur yang dapat menyimpan dan mengorganisir kumpulan data. Struktur data berbicara tentang cara menyimpan, mengorganisir, mengelompokkan, dan merepresentasikan data. Struktur data sangat penting dan harus dikuasai oleh seorang programmer. Di forum-forum pemrograman, saya sering menemukan pertanyaan yang menurut saya dapat diselesaikan jika seseorang memahami konsep struktur data.\n",
    "\n",
    "Dalam materi ini, kita akan membahas struktur data lanjutan, yaitu sets dan dictionaries."
   ]
  },
  {
   "cell_type": "markdown",
   "metadata": {},
   "source": [
    "2. Set\n",
    "Set dalam bahasa pemrograman Python adalah tipe data kolektif yang digunakan untuk menyimpan beberapa nilai dalam satu variabel dengan ketentuan berikut:\n",
    "\n",
    "Nilai anggota yang disimpan harus unik (tidak boleh ada duplikasi).\n",
    "Nilai anggota yang sudah dimasukkan tidak bisa diubah lagi.\n",
    "Set tidak berurutan alias unordered - yang berarti tidak bisa diakses melalui indeks.\n",
    "Untuk lebih memahami tiga poin di atas, kita akan segera mempraktikkannya.\n",
    "\n"
   ]
  },
  {
   "cell_type": "code",
   "execution_count": 2,
   "metadata": {},
   "outputs": [
    {
     "name": "stdout",
     "output_type": "stream",
     "text": [
      "{'Basith', 'Wahid', 'Lendis', 'Huda'}\n",
      "{'mango', 'Apple'}\n",
      "{('A', 'B'), True, 5, 'man', 'animal'}\n"
     ]
    }
   ],
   "source": [
    "# menggunakan kurung kurawal\n",
    "student_set = {'Huda', 'Lendis', 'Wahid', 'Basith'}\n",
    "print(student_set)\n",
    "\n",
    "# mengonversi list menjadi set\n",
    "fruit_set = set(['mango', 'Apple'])\n",
    "print(fruit_set)\n",
    "\n",
    "# sets dengan tipe data yang berbeda\n",
    "set_mix = {'man', 'animal', 5, True, ('A', 'B')}\n",
    "print(set_mix)\n"
   ]
  },
  {
   "cell_type": "markdown",
   "metadata": {},
   "source": [
    "Dalam kode di atas:\n",
    "\n",
    "student_set adalah set yang berisi nama-nama siswa yang unik.\n",
    "fruit_set adalah set yang dihasilkan dari konversi list ke set.\n",
    "set_mix adalah set yang berisi nilai-nilai dengan tipe data yang berbeda.\n",
    "Set ini adalah tipe data yang berguna ketika Anda memerlukan koleksi elemen unik tanpa urutan tertentu.\n",
    "\n",
    "\n",
    "\n",
    "\n",
    "\n",
    "\n"
   ]
  },
  {
   "cell_type": "markdown",
   "metadata": {},
   "source": [
    "a. Tidak Berurutan (Set)\n",
    "Tipe data set tidak berurutan. Itu berarti kita tidak bisa menggunakan indeks untuk mengakses nilai dalam set. Bahkan jika kita memaksa, kita hanya akan mendapatkan pesan error:"
   ]
  },
  {
   "cell_type": "code",
   "execution_count": null,
   "metadata": {},
   "outputs": [],
   "source": [
    "my_set = {'a'}\n",
    "print(my_set[0])\n"
   ]
  },
  {
   "cell_type": "markdown",
   "metadata": {},
   "source": [
    "Pesan error:"
   ]
  },
  {
   "cell_type": "code",
   "execution_count": null,
   "metadata": {},
   "outputs": [],
   "source": [
    "Traceback (most recent call last):\n",
    "  File \"<stdin>\", line 1, in <module>\n",
    "TypeError: 'set' object is not subscriptable\n"
   ]
  },
  {
   "cell_type": "markdown",
   "metadata": {},
   "source": [
    "Kita juga bisa melihat kode program yang kita buat sebelumnya:"
   ]
  },
  {
   "cell_type": "code",
   "execution_count": null,
   "metadata": {},
   "outputs": [],
   "source": [
    "student_set = {'Huda', 'Lendis', 'Wahid', 'Basith'}\n",
    "print(student_set)\n"
   ]
  },
  {
   "cell_type": "markdown",
   "metadata": {},
   "source": [
    "OUTPUT :"
   ]
  },
  {
   "cell_type": "markdown",
   "metadata": {},
   "source": [
    "{'Wahid', 'Lendis', 'Basith', 'Huda'}\n"
   ]
  },
  {
   "cell_type": "markdown",
   "metadata": {},
   "source": [
    "Di mana di atas kita mendefinisikan 4 anggota dari set dalam urutan: Huda, Lendis, Wahid, dan Basith. Namun, setelah dicetak, kita mendapatkan urutan yang berbeda.\n",
    "\n",
    "b. Tidak Dapat Diubah (Set)\n",
    "Set tidak dapat diubah, yang berarti nilai-nilai yang kita masukkan ke dalam set tidak bisa diubah lagi. Namun, kita masih bisa menambahkan dan menghapus anggota dari set tersebut. Dan, karena set tidak dapat diubah, mereka hanya bisa menerima anggota dari tipe data yang juga tidak dapat diubah.\n",
    "\n",
    "Penjelasan:\n",
    "Tidak Berurutan:\n",
    "\n",
    "Ketika mencoba mengakses elemen set menggunakan indeks, kita akan mendapatkan error TypeError: 'set' object is not subscriptable karena set tidak mendukung pengindeksan.\n",
    "Set tidak mempertahankan urutan elemen yang dimasukkan, sehingga urutan elemen ketika dicetak mungkin berbeda dari urutan ketika dimasukkan.\n",
    "Tidak Dapat Diubah:\n",
    "\n",
    "Setelah elemen dimasukkan ke dalam set, nilainya tidak dapat diubah lagi.\n",
    "Namun, elemen dapat ditambahkan atau dihapus dari set, dan elemen yang dimasukkan ke dalam set harus dari tipe data yang tidak dapat diubah (immutable), seperti angka, string, atau tuple."
   ]
  },
  {
   "cell_type": "markdown",
   "metadata": {},
   "source": [
    "CONTOH PERTAMA :"
   ]
  },
  {
   "cell_type": "code",
   "execution_count": null,
   "metadata": {},
   "outputs": [],
   "source": [
    "# Anggota set harus dari tipe data yang tidak dapat diubah\n",
    "set_fruit = {'mango', 'lemon', 'avocado', True, 1, 2, 3}\n",
    "\n",
    "# Kita bisa memasukkan tuple sebagai anggota\n",
    "# karena tuple tidak dapat diubah\n",
    "keyboard_ = {\n",
    "    (1, 2, 3),\n",
    "    (4, 5, 6),\n",
    "    (7, 8, 9),\n",
    "    (0,)\n",
    "}\n"
   ]
  },
  {
   "cell_type": "markdown",
   "metadata": {},
   "source": [
    "Pada contoh pertama, kita membuat dua set:\n",
    "\n",
    "set_fruit yang berisi berbagai tipe data yang tidak dapat diubah seperti string, boolean, dan angka.\n",
    "keyboard_ yang berisi tuple-tuple karena tuple juga merupakan tipe data yang tidak dapat diubah.\n",
    "\n",
    "\n",
    "Contoh Kedua:\n",
    "Namun kita tidak bisa memasukkan list sebagai anggota karena list dapat diubah. Pertimbangkan contoh berikut:"
   ]
  },
  {
   "cell_type": "code",
   "execution_count": null,
   "metadata": {},
   "outputs": [],
   "source": [
    "x = set([35, 100, ['a', 'b']])\n"
   ]
  },
  {
   "cell_type": "markdown",
   "metadata": {},
   "source": [
    "PESAN ERROR : "
   ]
  },
  {
   "cell_type": "code",
   "execution_count": null,
   "metadata": {},
   "outputs": [],
   "source": [
    "Traceback (most recent call last):\n",
    "  File \"<stdin>\", line 1, in <module>\n",
    "TypeError: unhashable type: 'list'\n"
   ]
  },
  {
   "cell_type": "markdown",
   "metadata": {},
   "source": [
    "Pada contoh kedua, ketika kita mencoba memasukkan list sebagai elemen dari set, Python menghasilkan error TypeError: unhashable type: 'list' karena list adalah tipe data yang dapat diubah dan tidak dapat dijadikan elemen dari set.\n",
    "\n",
    "Dengan memahami aturan ini, kita dapat menggunakan set dengan benar dalam program Python kita."
   ]
  },
  {
   "cell_type": "markdown",
   "metadata": {},
   "source": [
    "Berikut adalah penjelasan tentang konsep menambahkan dan menghapus elemen dari set di Python.\n",
    "\n",
    "D. Menambahkan Elemen ke Set\n",
    "\n",
    "Set di Python adalah koleksi tak berurutan dari elemen unik. Meskipun nilai set tidak dapat diubah, elemen baru dapat ditambahkan ke dalamnya menggunakan fungsi add() dan update().\n",
    "\n",
    "add(element): Menambahkan elemen tunggal ke set.\n",
    "update(elements): Menambahkan beberapa elemen ke set. elements dapat berupa set, list, atau iterable lainnya.\n",
    "Contoh:"
   ]
  },
  {
   "cell_type": "code",
   "execution_count": null,
   "metadata": {},
   "outputs": [],
   "source": [
    "alphabet_set = {'a', 'b', 'c'}\n",
    "print(alphabet_set)  # Output: {'a', 'b', 'c'}\n",
    "\n",
    "# Tambahkan satu per satu\n",
    "alphabet_set.add('d')\n",
    "alphabet_set.add('e')\n",
    "\n",
    "# Tambahkan lebih dari satu anggota sekaligus\n",
    "alphabet_set.update({'f', 'g'})\n",
    "alphabet_set.update(['h', 'i'])\n",
    "\n",
    "print(alphabet_set)  # Output: {'a', 'b', 'c', 'd', 'e', 'f', 'g', 'h', 'i'}"
   ]
  },
  {
   "cell_type": "markdown",
   "metadata": {},
   "source": [
    "Menghapus Elemen dari Set\n",
    "\n",
    "Ada empat fungsi untuk menghapus elemen dari set:\n",
    "\n",
    "remove(value): Menghapus nilai yang ditentukan dari set. Jika nilai tidak ada, maka akan terjadi kesalahan.\n",
    "discard(value): Menghapus nilai yang ditentukan dari set. Jika nilai tidak ada, maka tidak akan terjadi kesalahan.\n",
    "pop(): Mengambil dan menghapus elemen paling kiri dari set.\n",
    "clear(): Menghapus semua elemen dari set.\n",
    "\n",
    "\n",
    "Contoh:"
   ]
  },
  {
   "cell_type": "code",
   "execution_count": null,
   "metadata": {},
   "outputs": [],
   "source": [
    "my_set = {'virtual', 'virtuous', 100, ('a', 'b'), False, True}\n",
    "print(my_set)  # Output: {'virtual', 'virtuous', 100, ('a', 'b'), False, True}\n",
    "\n",
    "# Hapus elemen\n",
    "my_set.remove('virtual')\n",
    "my_set.discard('nonexistent')  # Tidak ada kesalahan\n",
    "my_set.pop()\n",
    "my_set.clear()\n",
    "\n",
    "print(my_set)  # Output: set()"
   ]
  },
  {
   "cell_type": "code",
   "execution_count": null,
   "metadata": {},
   "outputs": [],
   "source": [
    "# Membuat set\n",
    "my_set = {False, True, 100, 'aya', 'budi', ('a', 'b')}\n",
    "\n",
    "print(\"Output pertama:\")\n",
    "print(my_set)\n",
    "\n",
    "# Menghapus elemen dengan remove()\n",
    "try:\n",
    "    my_set.remove(100)\n",
    "except KeyError:\n",
    "    print(\"Error: Elemen tidak ditemukan\")\n",
    "\n",
    "print(\"Output kedua:\")\n",
    "print(my_set)\n",
    "\n",
    "# Menghapus elemen dengan discard()\n",
    "my_set.discard(('a', 'b'))\n",
    "print(\"Output ketiga:\")\n",
    "print(my_set)\n",
    "\n",
    "# Menghapus elemen dengan pop()\n",
    "removed_value = my_set.pop()\n",
    "print(\"Output keempat:\")\n",
    "print(\"Elemen yang dihapus:\", removed_value)\n",
    "print(\"Set setelah dihapus:\", my_set)\n",
    "\n",
    "# Menghapus semua elemen dengan clear()\n",
    "my_set.clear()\n",
    "print(\"Output kelima:\")\n",
    "print(my_set)"
   ]
  },
  {
   "cell_type": "markdown",
   "metadata": {},
   "source": [
    "Dictionary adalah tipe data dalam python yang berguna untuk menyimpan kumpulan data/nilai dengan pendekatan \"key-value\". Dictionary itu sendiri memiliki 2 komponen utama: yang pertama adalah key, yaitu nama atribut dari suatu item dalam dictionary. Yang kedua adalah value, yaitu nilai yang disimpan dalam atribut.\n",
    "\n",
    "Dictionary memiliki 3 properti:\n",
    "\n",
    "Unordered: tidak berurutan. Artinya, urutan pendefinisian key tidak menentukan urutannya dalam dictionary.\n",
    "Changeable: dapat diubah. Artinya, nilai yang disimpan pada key dapat diubah setelah dictionary dibuat.\n",
    "Unique: alias tidak dapat menerima dua key yang sama. Artinya, setiap key dalam dictionary harus unik. Jika ada key yang sama, maka key terakhir yang didefinisikan akan menimpa nilai key sebelumnya.\n",
    "Ada dua cara untuk membuat dictionary:\n",
    "\n",
    "Menggunakan tanda kurung kurawal {}\n",
    "Menggunakan fungsi dict()\n",
    "\n",
    "Berikut contohnya:"
   ]
  },
  {
   "cell_type": "code",
   "execution_count": null,
   "metadata": {},
   "outputs": [],
   "source": [
    "# pertama \n",
    "book = {\n",
    "\"title\": \"Fall Leaves Never Hate The Wind\",\n",
    "\"Writer\": \"Tere Liye\"\n",
    "}\n",
    "\n",
    "# kedua\n",
    "book = dict(\n",
    "title=\"Fall Leaves Never Hate The Wind\",\n",
    "author=\"Tere Liye\"\n",
    ")"
   ]
  }
 ],
 "metadata": {
  "kernelspec": {
   "display_name": "myenv",
   "language": "python",
   "name": "python3"
  },
  "language_info": {
   "codemirror_mode": {
    "name": "ipython",
    "version": 3
   },
   "file_extension": ".py",
   "mimetype": "text/x-python",
   "name": "python",
   "nbconvert_exporter": "python",
   "pygments_lexer": "ipython3",
   "version": "3.12.2"
  }
 },
 "nbformat": 4,
 "nbformat_minor": 2
}
