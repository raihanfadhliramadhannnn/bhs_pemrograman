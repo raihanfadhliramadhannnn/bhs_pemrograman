{
 "cells": [
  {
   "cell_type": "code",
   "execution_count": null,
   "metadata": {},
   "outputs": [],
   "source": []
  },
  {
   "cell_type": "markdown",
   "metadata": {},
   "source": [
    "## Graphical User Interface (GUI)\n",
    "\n",
    "Graphical User Interface (GUI) adalah antarmuka pengguna yang memungkinkan interaksi dengan perangkat lunak melalui elemen grafis seperti tombol, ikon, dan jendela, daripada menggunakan perintah teks. GUI membuat perangkat lunak lebih ramah pengguna, terutama bagi orang yang tidak terbiasa dengan baris perintah atau perintah teks.\n",
    "\n",
    "## Komponen Utama GUI\n",
    "Window (Jendela): Area di layar tempat elemen GUI ditampilkan.\n",
    "Button (Tombol): Elemen yang dapat diklik untuk memicu aksi tertentu.\n",
    "Label: Elemen yang digunakan untuk menampilkan teks statis.\n",
    "Textbox (Kotak Teks): Area input tempat pengguna dapat mengetik teks.\n",
    "Menu: Kumpulan pilihan yang dapat dipilih pengguna.\n",
    "Library GUI di Python\n",
    "Python menyediakan beberapa library untuk membuat aplikasi GUI, di antaranya:\n",
    "\n",
    "Tkinter: Library GUI standar yang disertakan dengan instalasi Python.\n",
    "PyQt: Binding Python untuk toolkit Qt yang digunakan untuk membuat antarmuka pengguna lintas platform.\n",
    "wxPython: Library GUI lintas platform yang dibangun di atas toolkit wxWidgets."
   ]
  }
 ],
 "metadata": {
  "language_info": {
   "name": "python"
  }
 },
 "nbformat": 4,
 "nbformat_minor": 2
}
