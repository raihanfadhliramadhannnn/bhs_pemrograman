{
 "cells": [
  {
   "cell_type": "markdown",
   "metadata": {},
   "source": [
    "## Aplikasi bisa berkomunikasi dengan database menggunakan bahasa pemrograman Python melalui berbagai metode dan pustaka (library) yang disediakan. Berikut adalah penjelasan mengenai cara komunikasi tersebut:"
   ]
  },
  {
   "cell_type": "markdown",
   "metadata": {},
   "source": [
    "1. Menggunakan Library Database-Specific\n",
    "Python memiliki berbagai pustaka yang dirancang untuk berkomunikasi dengan berbagai jenis database, baik relasional maupun non-relasional. Beberapa yang paling umum adalah:\n",
    "\n",
    "SQLite: Menggunakan modul sqlite3, yang merupakan pustaka bawaan Python.\n",
    "MySQL: Menggunakan pustaka seperti mysql-connector-python, PyMySQL, atau MySQLdb.\n",
    "PostgreSQL: Menggunakan pustaka psycopg2 atau SQLAlchemy.\n",
    "MongoDB: Menggunakan pustaka pymongo."
   ]
  },
  {
   "cell_type": "markdown",
   "metadata": {},
   "source": [
    "2. Proses Komunikasi Dasar\n",
    "Proses dasar komunikasi antara aplikasi Python dan database mencakup beberapa langkah:\n",
    "\n",
    "Menghubungkan ke Database: Membuat koneksi ke server database menggunakan kredensial yang benar (host, port, username, password, nama database).\n",
    "Mengeksekusi Query SQL: Menggunakan cursor untuk mengeksekusi perintah SQL (SELECT, INSERT, UPDATE, DELETE).\n",
    "Mengambil Hasil Query: Memproses hasil dari query yang dieksekusi.\n",
    "Menutup Koneksi: Menutup koneksi ke database setelah operasi selesai untuk membebaskan sumber daya."
   ]
  }
 ],
 "metadata": {
  "language_info": {
   "name": "python"
  }
 },
 "nbformat": 4,
 "nbformat_minor": 2
}
